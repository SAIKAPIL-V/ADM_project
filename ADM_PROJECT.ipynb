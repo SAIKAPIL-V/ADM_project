{
  "nbformat": 4,
  "nbformat_minor": 0,
  "metadata": {
    "colab": {
      "provenance": [],
      "authorship_tag": "ABX9TyMmbQ/Hk5H1rlMFm7g3C/Xv",
      "include_colab_link": true
    },
    "kernelspec": {
      "name": "python3",
      "display_name": "Python 3"
    },
    "language_info": {
      "name": "python"
    }
  },
  "cells": [
    {
      "cell_type": "markdown",
      "metadata": {
        "id": "view-in-github",
        "colab_type": "text"
      },
      "source": [
        "<a href=\"https://colab.research.google.com/github/SAIKAPIL-V/ADM_project/blob/main/ADM_PROJECT.ipynb\" target=\"_parent\"><img src=\"https://colab.research.google.com/assets/colab-badge.svg\" alt=\"Open In Colab\"/></a>"
      ]
    },
    {
      "cell_type": "code",
      "source": [
        "from sklearn.model_selection import cross_val_score\n",
        "from sklearn.ensemble import RandomForestClassifier\n",
        "import pandas as pd\n",
        "\n",
        "# Existing celebrity scores and movie data\n",
        "celebrity_scores = {\n",
        "    'Hero': {'ram charan': 9, 'nani': 7, 'vijay': 8, 'prabhas': 10, 'allu arjun': 9},\n",
        "    'Heroine': {'samantha': 9, 'rashmika': 8, 'kajal': 7},\n",
        "    'Comedian': {'brahmanandam': 9, 'vennela kishore': 8, 'ali': 7},\n",
        "    'Villain': {'jagapathi babu': 9, 'prakash raj': 8, 'sonu sood': 7},\n",
        "    'Producer': {'dil raju': 9, 'suresh babu': 8, 'allu aravind': 9},\n",
        "    'Director': {'rajamouli': 10, 'trivikram': 9, 'sukumar': 9},\n",
        "    'StoryWriter': {'vijayendra prasad': 10, 'koratala siva': 9, 'bvs ravi': 8}\n",
        "}\n",
        "\n",
        "data = [\n",
        "    ['Ram Charan', 'Samantha', 'Brahmanandam', 'Jagapathi Babu', 'Dil Raju', 'Rajamouli', 'Vijayendra Prasad', 1],\n",
        "    ['Nani', 'Rashmika', 'Ali', 'Prakash Raj', 'Suresh Babu', 'Trivikram', 'Koratala Siva', 0],\n",
        "    ['Vijay', 'Kajal', 'Vennela Kishore', 'Sonu Sood', 'Allu Aravind', 'Sukumar', 'BVS Ravi', 1],\n",
        "    ['Prabhas', 'Samantha', 'Brahmanandam', 'Prakash Raj', 'Dil Raju', 'Rajamouli', 'Vijayendra Prasad', 1],\n",
        "    ['Allu Arjun', 'Rashmika', 'Vennela Kishore', 'Sonu Sood', 'Allu Aravind', 'Sukumar', 'Koratala Siva', 1],\n",
        "    ['Prabhas', 'None', 'None', 'None', 'Dil Raju', 'Rajamouli', 'Vijayendra Prasad', 1]\n",
        "]\n",
        "\n",
        "columns = ['Hero', 'Heroine', 'Comedian', 'Villain', 'Producer', 'Director', 'StoryWriter', 'Success']\n",
        "df = pd.DataFrame(data, columns=columns)\n",
        "\n",
        "# Convert celebrity names to scores\n",
        "for col in columns[:-1]:  # Skip Success\n",
        "    df[col] = df[col].apply(lambda x: celebrity_scores[col].get(x.lower(), 0))\n",
        "\n",
        "# Train model\n",
        "X = df.drop('Success', axis=1)\n",
        "y = df['Success']\n",
        "\n",
        "model = RandomForestClassifier(class_weight='balanced', random_state=42)\n",
        "\n",
        "# Perform cross-validation\n",
        "cv_scores = cross_val_score(model, X, y, cv=5)\n",
        "\n",
        "# Output the cross-validation results\n",
        "print(f\"Cross-Validation Scores: {cv_scores}\")\n",
        "print(f\"Mean CV Score: {cv_scores.mean()}\")\n",
        "\n",
        "# Fit the model with the whole data\n",
        "model.fit(X, y)\n",
        "\n",
        "# Function for user input and prediction\n",
        "def get_input(field_name):\n",
        "    print(f\"\\nAvailable {field_name}s: {', '.join(celebrity_scores[field_name].keys())}\")\n",
        "    print(f\"(Type 'None' if no {field_name.lower()} in the movie)\")\n",
        "    value = input(f\"Enter {field_name}: \").strip().lower()\n",
        "    while value not in celebrity_scores[field_name] and value != \"none\":\n",
        "        print(\"❌ Invalid input. Please choose from the list or type 'None'.\")\n",
        "        value = input(f\"Enter {field_name} again: \").strip().lower()\n",
        "    return celebrity_scores[field_name].get(value, 0)\n",
        "\n",
        "# Prediction part without budget\n",
        "hero = get_input('Hero')\n",
        "heroine = get_input('Heroine')\n",
        "comedian = get_input('Comedian')\n",
        "villain = get_input('Villain')\n",
        "producer = get_input('Producer')\n",
        "director = get_input('Director')\n",
        "story_writer = get_input('StoryWriter')\n",
        "\n",
        "user_data = pd.DataFrame([{\n",
        "    'Hero': hero,\n",
        "    'Heroine': heroine,\n",
        "    'Comedian': comedian,\n",
        "    'Villain': villain,\n",
        "    'Producer': producer,\n",
        "    'Director': director,\n",
        "    'StoryWriter': story_writer\n",
        "}])\n",
        "\n",
        "prediction = model.predict(user_data)[0]\n",
        "probs = model.predict_proba(user_data)[0]\n",
        "\n",
        "if len(probs) > 1:\n",
        "    confidence = probs[prediction] * 100\n",
        "else:\n",
        "    confidence = probs[0] * 100\n",
        "\n",
        "print(\"\\n✅ Predicted Result: \", \"🎉 Hit!\" if prediction == 1 else \"😞 Flop.\")\n",
        "print(f\"🔍 Confidence: {confidence:.2f}%\")"
      ],
      "metadata": {
        "colab": {
          "base_uri": "https://localhost:8080/"
        },
        "id": "NvFu2HOxIuVx",
        "outputId": "5f6f74f9-b5e2-4aca-f72f-8f8be22ed0a9"
      },
      "execution_count": 10,
      "outputs": [
        {
          "output_type": "stream",
          "name": "stderr",
          "text": [
            "/usr/local/lib/python3.11/dist-packages/sklearn/model_selection/_split.py:805: UserWarning: The least populated class in y has only 1 members, which is less than n_splits=5.\n",
            "  warnings.warn(\n"
          ]
        },
        {
          "output_type": "stream",
          "name": "stdout",
          "text": [
            "Cross-Validation Scores: [0.5 1.  1.  1.  1. ]\n",
            "Mean CV Score: 0.9\n",
            "\n",
            "Available Heros: ram charan, nani, vijay, prabhas, allu arjun\n",
            "(Type 'None' if no hero in the movie)\n",
            "Enter Hero: allu arjun\n",
            "\n",
            "Available Heroines: samantha, rashmika, kajal\n",
            "(Type 'None' if no heroine in the movie)\n",
            "Enter Heroine: kajal\n",
            "\n",
            "Available Comedians: brahmanandam, vennela kishore, ali\n",
            "(Type 'None' if no comedian in the movie)\n",
            "Enter Comedian: ali\n",
            "\n",
            "Available Villains: jagapathi babu, prakash raj, sonu sood\n",
            "(Type 'None' if no villain in the movie)\n",
            "Enter Villain: sonu sood\n",
            "\n",
            "Available Producers: dil raju, suresh babu, allu aravind\n",
            "(Type 'None' if no producer in the movie)\n",
            "Enter Producer: allu aravind\n",
            "\n",
            "Available Directors: rajamouli, trivikram, sukumar\n",
            "(Type 'None' if no director in the movie)\n",
            "Enter Director: sukumar\n",
            "\n",
            "Available StoryWriters: vijayendra prasad, koratala siva, bvs ravi\n",
            "(Type 'None' if no storywriter in the movie)\n",
            "Enter StoryWriter: bvs ravi\n",
            "\n",
            "✅ Predicted Result:  🎉 Hit!\n",
            "🔍 Confidence: 84.00%\n"
          ]
        }
      ]
    },
    {
      "cell_type": "code",
      "source": [
        "import pandas as pd\n",
        "\n",
        "# Existing celebrity scores (only relevant roles)\n",
        "celebrity_scores = {\n",
        "    'Hero': {'ram charan': 9, 'nani': 7, 'vijay': 8, 'prabhas': 10, 'allu arjun': 9},\n",
        "    'Heroine': {'samantha': 9, 'rashmika': 8, 'kajal': 7},\n",
        "    'Comedian': {'brahmanandam': 9, 'vennela kishore': 8, 'ali': 7},\n",
        "    'Villain': {'jagapathi babu': 9, 'prakash raj': 8, 'sonu sood': 7},\n",
        "    'Director': {'rajamouli': 10, 'trivikram': 9, 'sukumar': 9}\n",
        "}\n",
        "\n",
        "# Load data from Excel\n",
        "file_path = '/content/movie_success_rated_dataset.xlsx'\n",
        "df = pd.read_excel(file_path)\n",
        "\n",
        "# Relevant columns only (no Success)\n",
        "columns = ['Hero', 'Heroine', 'Comedian', 'Villain', 'Director']\n",
        "\n",
        "# Validate and clean columns\n",
        "existing_columns = df.columns.tolist()\n",
        "missing_cols = [col for col in columns if col not in existing_columns]\n",
        "if missing_cols:\n",
        "    raise ValueError(f\"Missing columns in the Excel file: {missing_cols}\")\n",
        "\n",
        "extra_cols = [col for col in existing_columns if col not in columns]\n",
        "if extra_cols:\n",
        "    print(f\"Warning: Dropping extra columns found in the Excel file: {extra_cols}\")\n",
        "    df = df.drop(columns=extra_cols)\n",
        "\n",
        "# Map celebrity names to scores\n",
        "for col in columns:\n",
        "    df[col] = df[col].fillna(\"None\").apply(lambda x: celebrity_scores[col].get(str(x).strip().lower(), 0))\n",
        "\n",
        "# Output the cleaned, encoded DataFrame\n",
        "print(\"🎬 Encoded Movie DataFrame (no Success column):\")\n",
        "print(df.head())\n"
      ],
      "metadata": {
        "colab": {
          "base_uri": "https://localhost:8080/"
        },
        "id": "tzECG3qoosbJ",
        "outputId": "5f5ab65b-3131-42f5-9875-43e90747beda"
      },
      "execution_count": 7,
      "outputs": [
        {
          "output_type": "stream",
          "name": "stdout",
          "text": [
            "Warning: Dropping extra columns found in the Excel file: ['HeroRating', 'HeroineRating', 'VillainRating', 'DirectorRating', 'ComedianRating']\n",
            "🎬 Encoded Movie DataFrame (no Success column):\n",
            "   Hero  Heroine  Villain  Director  Comedian\n",
            "0     0        0        0         0         0\n",
            "1     0        0        0         9         0\n",
            "2     8        0        0         0         0\n",
            "3     0        0        0         0         0\n",
            "4     0        0        0         9         9\n"
          ]
        }
      ]
    }
  ]
}